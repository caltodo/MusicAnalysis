{
 "metadata": {
  "language_info": {
   "codemirror_mode": {
    "name": "ipython",
    "version": 3
   },
   "file_extension": ".py",
   "mimetype": "text/x-python",
   "name": "python",
   "nbconvert_exporter": "python",
   "pygments_lexer": "ipython3",
   "version": "3.7.6-final"
  },
  "orig_nbformat": 2,
  "kernelspec": {
   "name": "python_defaultSpec_1598403587706",
   "display_name": "Python 3.7.6 64-bit ('base': conda)"
  }
 },
 "nbformat": 4,
 "nbformat_minor": 2,
 "cells": [
  {
   "cell_type": "markdown",
   "metadata": {},
   "source": [
    "## Python Playlist Recommender -- Using Spotify API"
   ]
  },
  {
   "cell_type": "code",
   "execution_count": 69,
   "metadata": {},
   "outputs": [],
   "source": [
    "import numpy as np # library to handle data in a vectorized manner\n",
    "\n",
    "import pandas as pd # library for data analsysis\n",
    "\n",
    "import datetime\n",
    "\n",
    "from datetime import datetime,date #for cleaning the dates\n",
    "\n",
    "import matplotlib.pyplot as plt\n",
    "\n",
    "import json\n",
    "import os\n",
    "import spotipy\n",
    "from spotipy.oauth2 import SpotifyClientCredentials\n",
    "\n",
    "import base64\n",
    "from urllib.parse import urlencode\n",
    "import requests\n",
    "\n",
    "import re"
   ]
  },
  {
   "cell_type": "markdown",
   "metadata": {},
   "source": [
    "## Spotify Set Up"
   ]
  },
  {
   "cell_type": "code",
   "execution_count": 266,
   "metadata": {},
   "outputs": [],
   "source": [
    "# Set environment variables\n",
    "os.environ['SPOTIPY_CLIENT_ID'] = 'c24c5f113ae54900b2d00ff68db31733'\n",
    "os.environ['SPOTIPY_CLIENT_SECRET'] = '8095c6f50e1b424eba66ba3e5089285a'\n",
    "\n",
    "# Get environment variables\n",
    "USER = os.getenv('SPOTIPY_CLIENT_ID')\n",
    "PASSWORD = os.environ.get('SPOTIPY_CLIENT_SECRET')\n",
    "\n",
    "client_creds = f\"{USER}:{PASSWORD}\"\n",
    "client_creds_b64 = base64.b64encode(client_creds.encode())\n"
   ]
  },
  {
   "cell_type": "code",
   "execution_count": 267,
   "metadata": {},
   "outputs": [],
   "source": [
    "#Set up token\n",
    "token_url = \"https://accounts.spotify.com/api/token\"\n",
    "method = \"POST\"\n",
    "token_data = {\n",
    "    \"grant_type\": \"client_credentials\"\n",
    "}\n",
    "token_header = {\n",
    "    \"Authorization\": f\"Basic {client_creds_b64.decode()}\" #base64 encoded\n",
    "}\n",
    "\n",
    "\n",
    "r = requests.post(token_url, data=token_data, headers=token_header)\n",
    "token_response_data = r.json()\n",
    "access_token = token_response_data['access_token']\n",
    "header = {\n",
    "    \"Authorization\": f\"Bearer {access_token}\"\n",
    "}"
   ]
  },
  {
   "cell_type": "markdown",
   "metadata": {},
   "source": [
    "## Function Definition:"
   ]
  },
  {
   "cell_type": "code",
   "execution_count": 301,
   "metadata": {},
   "outputs": [],
   "source": [
    "#GetVariation\n",
    "#Pass in two dataframes (target, library)\n",
    "#Populate variation between frame 1 and 2 in a new column\n",
    "\n",
    "def GetVariation(target, library):\n",
    "    l = len(library_df)\n",
    "    var_list = []\n",
    "    for i in range(l):\n",
    "        var_list.append(abs((library['popularity'][i] - target['popularity']) + (library['Danceability'][i] - target['Danceability']) + (library['Energy'][i] - target['Energy']) + (library['Loudness'][i] - target['Loudness']) + (library['Speechiness'][i] - target['Speechiness']) + (library['Acousticness'][i] - target['Acousticness']) + (library['Instrumentalness'][i] - target['Instrumentalness']) + (library['Liveness'][i] - target['Liveness']) + (library['Tempo'][i] - target['Tempo'])))\n",
    "\n",
    "    library['Variation'] = var_list\n",
    "    return library"
   ]
  },
  {
   "cell_type": "code",
   "execution_count": 294,
   "metadata": {},
   "outputs": [],
   "source": [
    "#GetIDs\n",
    "#Pre-conditions: pass in dataframe of songs (with at least 'Name')\n",
    "#Post-conditions: Populate dataframes with Spotify Data = {id, popularity}\n",
    "\n",
    "def GetIDs(df):\n",
    "   l = len(df)\n",
    "   endpoint = \"https://api.spotify.com/v1/search\"\n",
    "\n",
    "   id_list = []\n",
    "   pop_list = []\n",
    "\n",
    "   for i in range(l):\n",
    "      #print(i)\n",
    "      song_name = df['Name'][i]\n",
    "    \n",
    "      #song_name = test_list['Name'][i]\n",
    "      #print(song_name)\n",
    "      data = urlencode({\"q\": song_name, \"type\": \"track\"}) #I need it to search for song name + artist name\n",
    "      lookup_url = f\"{endpoint}?{data}\"\n",
    "      r = requests.get(lookup_url, headers = header)\n",
    "      #print(r.status_code)\n",
    "      results = r.json()\n",
    "      items = results['tracks']['items']\n",
    "      id_list.append(items[0]['id'])\n",
    "      pop_list.append(items[0]['popularity'])\n",
    "\n",
    "   df['id'] = id_list\n",
    "   df['popularity'] = pop_list\n",
    "   return df"
   ]
  },
  {
   "cell_type": "code",
   "execution_count": 295,
   "metadata": {},
   "outputs": [],
   "source": [
    "#GetData\n",
    "#Pre-conditions: pass in dataframe with spotify id's\n",
    "#Post-conditions: Populate dataframe with data = {Danceability, Energy, Loudness, etc...}\n",
    "\n",
    "def GetData(df):\n",
    "    l = len(df)\n",
    "    endpoint = \"https://api.spotify.com/v1/audio-features/\"\n",
    "\n",
    "    dance_list = []\n",
    "    energy_list = []\n",
    "    loud_list = []\n",
    "    speech_list = []\n",
    "    acoustic_list = []\n",
    "    instrument_list = []\n",
    "    live_list = []\n",
    "    tempo_list = []\n",
    "\n",
    "    for i in range(l):\n",
    "        #print(df['Name'][i])\n",
    "        s_id = df['id'][i]\n",
    "        lookup_url = f\"{endpoint}{s_id}\"\n",
    "        r2 = requests.get(lookup_url, headers = header)\n",
    "        song_info = r2.json()\n",
    "        dance_list.append(song_info['danceability'])\n",
    "        energy_list.append(song_info['energy'])\n",
    "        loud_list.append(song_info['loudness'])\n",
    "        speech_list.append(song_info['speechiness'])\n",
    "        acoustic_list.append(song_info['acousticness'])\n",
    "        instrument_list.append(song_info['instrumentalness'])\n",
    "        live_list.append(song_info['liveness'])\n",
    "        tempo_list.append(song_info['tempo'])\n",
    "\n",
    "    df['Danceability'] = dance_list\n",
    "    df['Energy'] = energy_list\n",
    "    df['Loudness'] = loud_list\n",
    "    df['Speechiness'] = speech_list\n",
    "    df['Acousticness'] = acoustic_list\n",
    "    df['Instrumentalness'] = instrument_list\n",
    "    df['Liveness'] = live_list\n",
    "    df['Tempo'] = tempo_list\n",
    "    return df"
   ]
  },
  {
   "cell_type": "code",
   "execution_count": 208,
   "metadata": {},
   "outputs": [],
   "source": [
    "def CleanPar(df):\n",
    "    names = df['Name'].tolist()\n",
    "    items = []\n",
    "    for item in names:\n",
    "        items.append(re.sub(r\" ?\\([^)]+\\)\", \"\", item))\n",
    "\n",
    "    df['Name'] = items\n",
    "    return df"
   ]
  },
  {
   "cell_type": "code",
   "execution_count": 209,
   "metadata": {},
   "outputs": [],
   "source": [
    "def CleanBrack(df):\n",
    "    names = df['Name'].tolist()\n",
    "    items = []\n",
    "    for item in names:\n",
    "        items.append(re.sub(r\" ?\\[[^)]+\\]\", \"\", item))\n",
    "\n",
    "    df['Name'] = items\n",
    "    return df"
   ]
  },
  {
   "cell_type": "code",
   "execution_count": 210,
   "metadata": {},
   "outputs": [],
   "source": [
    "def CleanSlash(df):\n",
    "    names = df['Name'].tolist()\n",
    "    items = []\n",
    "    sep = '/'\n",
    "    for item in names:\n",
    "        items.append(item.split(sep, 1)[0])\n",
    "\n",
    "    df['Name'] = items\n",
    "    return df"
   ]
  },
  {
   "cell_type": "code",
   "execution_count": 211,
   "metadata": {},
   "outputs": [],
   "source": [
    "def CleanDupes(df):\n",
    "    df.drop_duplicates(subset =\"Name\", keep = \"first\", inplace = True);\n",
    "    #Reset index for looping                     \n",
    "    df.reset_index(drop=True, inplace=True);\n",
    "    return df"
   ]
  },
  {
   "cell_type": "code",
   "execution_count": 296,
   "metadata": {},
   "outputs": [],
   "source": [
    "#Removes instances of playlist songs in library \n",
    "# so you don't get recommended what you already have\n",
    "\n",
    "def CrossRef(playlist, library):\n",
    "    cond = playlist['Name'].isin(library['Name'])\n",
    "    library.drop(library[cond].index, inplace = True)\n",
    "    return library"
   ]
  },
  {
   "cell_type": "markdown",
   "metadata": {},
   "source": [
    "## Main:"
   ]
  },
  {
   "cell_type": "code",
   "execution_count": 278,
   "metadata": {},
   "outputs": [],
   "source": [
    "#Setting Up Data - In the future prompt user to browse files for playlist\n",
    "playlist_df = pd.read_csv('STCD_data.csv', low_memory=False)\n",
    "library_df = pd.read_csv('MusicLibrary3.csv', low_memory=False, encoding='latin1')"
   ]
  },
  {
   "cell_type": "code",
   "execution_count": 279,
   "metadata": {},
   "outputs": [],
   "source": [
    "#Cleaning Calls\n",
    "library_df = CleanPar(library_df)\n",
    "playlist_df = CleanPar(playlist_df)\n",
    "\n",
    "library_df = CleanBrack(library_df)\n",
    "playlist_df = CleanBrack(playlist_df)\n",
    "\n",
    "library_df = CleanSlash(library_df)\n",
    "playlist_df = CleanSlash(playlist_df)\n",
    "\n",
    "library_df = CleanDupes(library_df)\n",
    "playlist_df = CleanDupes(playlist_df)\n",
    "\n",
    "library_df.fillna(0, inplace=True)\n",
    "playlist_df.fillna(0, inplace=True)"
   ]
  },
  {
   "cell_type": "code",
   "execution_count": 280,
   "metadata": {},
   "outputs": [
    {
     "output_type": "execute_result",
     "data": {
      "text/plain": "              Name           Artist        Genre    Year         Date Added  \\\n0         Santeria          Sublime  Alternative  1996.0   5/11/12, 8:56 PM   \n1       Take On Me             a-ha          Pop  1985.0  9/10/18, 12:40 PM   \n2  Cliffs of Dover     Eric Johnson         Rock  1990.0   8/16/17, 2:52 PM   \n3  What I'm Here 4       Gang Starr  Hip-Hop/Rap  1998.0   12/2/16, 2:17 AM   \n4           Heaven  Los Lonely Boys         Rock  2004.0   5/25/18, 8:48 PM   \n\n         Last Played  Plays  \n0  7/28/20, 12:05 PM  314.0  \n1    7/9/20, 2:43 PM  220.0  \n2    8/2/20, 5:21 PM  184.0  \n3    8/2/20, 5:11 PM  172.0  \n4    8/2/20, 4:46 PM  163.0  ",
      "text/html": "<div>\n<style scoped>\n    .dataframe tbody tr th:only-of-type {\n        vertical-align: middle;\n    }\n\n    .dataframe tbody tr th {\n        vertical-align: top;\n    }\n\n    .dataframe thead th {\n        text-align: right;\n    }\n</style>\n<table border=\"1\" class=\"dataframe\">\n  <thead>\n    <tr style=\"text-align: right;\">\n      <th></th>\n      <th>Name</th>\n      <th>Artist</th>\n      <th>Genre</th>\n      <th>Year</th>\n      <th>Date Added</th>\n      <th>Last Played</th>\n      <th>Plays</th>\n    </tr>\n  </thead>\n  <tbody>\n    <tr>\n      <th>0</th>\n      <td>Santeria</td>\n      <td>Sublime</td>\n      <td>Alternative</td>\n      <td>1996.0</td>\n      <td>5/11/12, 8:56 PM</td>\n      <td>7/28/20, 12:05 PM</td>\n      <td>314.0</td>\n    </tr>\n    <tr>\n      <th>1</th>\n      <td>Take On Me</td>\n      <td>a-ha</td>\n      <td>Pop</td>\n      <td>1985.0</td>\n      <td>9/10/18, 12:40 PM</td>\n      <td>7/9/20, 2:43 PM</td>\n      <td>220.0</td>\n    </tr>\n    <tr>\n      <th>2</th>\n      <td>Cliffs of Dover</td>\n      <td>Eric Johnson</td>\n      <td>Rock</td>\n      <td>1990.0</td>\n      <td>8/16/17, 2:52 PM</td>\n      <td>8/2/20, 5:21 PM</td>\n      <td>184.0</td>\n    </tr>\n    <tr>\n      <th>3</th>\n      <td>What I'm Here 4</td>\n      <td>Gang Starr</td>\n      <td>Hip-Hop/Rap</td>\n      <td>1998.0</td>\n      <td>12/2/16, 2:17 AM</td>\n      <td>8/2/20, 5:11 PM</td>\n      <td>172.0</td>\n    </tr>\n    <tr>\n      <th>4</th>\n      <td>Heaven</td>\n      <td>Los Lonely Boys</td>\n      <td>Rock</td>\n      <td>2004.0</td>\n      <td>5/25/18, 8:48 PM</td>\n      <td>8/2/20, 4:46 PM</td>\n      <td>163.0</td>\n    </tr>\n  </tbody>\n</table>\n</div>"
     },
     "metadata": {},
     "execution_count": 280
    }
   ],
   "source": [
    "playlist_df.head()"
   ]
  },
  {
   "cell_type": "code",
   "execution_count": 281,
   "metadata": {},
   "outputs": [
    {
     "output_type": "execute_result",
     "data": {
      "text/plain": "             Name         Date Added    Year        Last Played  \\\n0        A.D.H.D.   7/6/15, 10:13 PM  2011.0   6/27/17, 9:58 AM   \n1  Ab-Souls Outro  8/12/19, 11:16 AM  2011.0                  0   \n2             ABC   6/27/18, 7:50 PM  1970.0  11/3/19, 11:24 AM   \n3    About a Girl    8/8/18, 1:53 PM  1989.0   2/28/19, 4:47 PM   \n4        About Me  10/25/16, 4:57 PM  2009.0    6/8/19, 5:50 PM   \n\n           Artist        Genre  Plays  \n0  Kendrick Lamar  Hip-Hop/Rap   21.0  \n1  Kendrick Lamar  Hip-Hop/Rap    0.0  \n2       Jackson 5     R&B/Soul   11.0  \n3         Nirvana  Alternative    3.0  \n4         Raekwon  Hip-Hop/Rap    1.0  ",
      "text/html": "<div>\n<style scoped>\n    .dataframe tbody tr th:only-of-type {\n        vertical-align: middle;\n    }\n\n    .dataframe tbody tr th {\n        vertical-align: top;\n    }\n\n    .dataframe thead th {\n        text-align: right;\n    }\n</style>\n<table border=\"1\" class=\"dataframe\">\n  <thead>\n    <tr style=\"text-align: right;\">\n      <th></th>\n      <th>Name</th>\n      <th>Date Added</th>\n      <th>Year</th>\n      <th>Last Played</th>\n      <th>Artist</th>\n      <th>Genre</th>\n      <th>Plays</th>\n    </tr>\n  </thead>\n  <tbody>\n    <tr>\n      <th>0</th>\n      <td>A.D.H.D.</td>\n      <td>7/6/15, 10:13 PM</td>\n      <td>2011.0</td>\n      <td>6/27/17, 9:58 AM</td>\n      <td>Kendrick Lamar</td>\n      <td>Hip-Hop/Rap</td>\n      <td>21.0</td>\n    </tr>\n    <tr>\n      <th>1</th>\n      <td>Ab-Souls Outro</td>\n      <td>8/12/19, 11:16 AM</td>\n      <td>2011.0</td>\n      <td>0</td>\n      <td>Kendrick Lamar</td>\n      <td>Hip-Hop/Rap</td>\n      <td>0.0</td>\n    </tr>\n    <tr>\n      <th>2</th>\n      <td>ABC</td>\n      <td>6/27/18, 7:50 PM</td>\n      <td>1970.0</td>\n      <td>11/3/19, 11:24 AM</td>\n      <td>Jackson 5</td>\n      <td>R&amp;B/Soul</td>\n      <td>11.0</td>\n    </tr>\n    <tr>\n      <th>3</th>\n      <td>About a Girl</td>\n      <td>8/8/18, 1:53 PM</td>\n      <td>1989.0</td>\n      <td>2/28/19, 4:47 PM</td>\n      <td>Nirvana</td>\n      <td>Alternative</td>\n      <td>3.0</td>\n    </tr>\n    <tr>\n      <th>4</th>\n      <td>About Me</td>\n      <td>10/25/16, 4:57 PM</td>\n      <td>2009.0</td>\n      <td>6/8/19, 5:50 PM</td>\n      <td>Raekwon</td>\n      <td>Hip-Hop/Rap</td>\n      <td>1.0</td>\n    </tr>\n  </tbody>\n</table>\n</div>"
     },
     "metadata": {},
     "execution_count": 281
    }
   ],
   "source": [
    "library_df.head()"
   ]
  },
  {
   "cell_type": "code",
   "execution_count": null,
   "metadata": {},
   "outputs": [],
   "source": [
    "#Check above to make sure data is clean (about a girl should only have one observation)"
   ]
  },
  {
   "cell_type": "code",
   "execution_count": 288,
   "metadata": {},
   "outputs": [],
   "source": [
    "playlist_df = GetIDs(playlist_df)"
   ]
  },
  {
   "cell_type": "code",
   "execution_count": 284,
   "metadata": {
    "tags": []
   },
   "outputs": [
    {
     "output_type": "stream",
     "name": "stdout",
     "text": "A.D.H.D.\nAb-Souls Outro\nABC\nAbout a Girl\nAbout Me\nAbout the Money\nAbove the Clouds\nAbraham, Martin and John\nAces High\nAcid Rain\nAct Right\nAdam and Eve\nAdam's Song\nAddiction\nAfrica\nAfter Dark\nAfterlife\nAgain\nAin't No Mountain High Enough\nAin't No Nigga\nAin't No Sunshine\nAin't Talkin' 'Bout Love\nAli Bomaye\nAlive\nAll About It\nAll Along the Watchtower\nAll by Myself\nAll Falls Down\nAll Gold Everything\nAll Me\nAll My Life\nAll of the Lights\nAll Right Now\nAll Star\nAll Summer Long\nAll That\nAll the Small Things\nAll The Stars\nAll We Need\nAlmost Famous\nAlmost Slipped\nAlright\nAlways There\nAmazing\nAmbitionz Az a Ridah\nAmerican Boy\nAmerican Girl\nAmerican Idiot\nAmerican Pie\nAmerican Reprise\nAmerican Venom\nAmerican Woman\nAnastasia\nAnd It Stoned Me\nAngel\nAngels\nAnimal Magnetism\nAnomaly\nAny Way You Want It\nAnything Goes\nApologize\nApparently\nApril 29, 1992\nAre You Gonna Be My Girl\nArizona\nAround the World\nThe Art of Peer Pressure\nAson Jones\nAss Like That\nAt Seventeen\nAtlantic City\nAutumn Leaves\nAward Tour\nAyo\nB.Y.O.B.\nBabe I'm Gonna Leave You\nBaby I'm YoursÊ\nBabydoll\nBack In Black\nBack Stabbers\nBack That Azz Up\nBackseat Freestyle\nBad and Boujee\nBad Luck\nBad Moon Rising\nBad News\nBad, Bad Leroy Brown\nBadfish\nBadland\nBaggin Crack\nBagpipes from Baghdad\nBaker Street\nBales\nBall and Chain\nBall For Me\nThe Ballad of Johnny Butt\nBam\nBanana Pancakes\nBananza\nBand on the Run\nBang\nBank Account\nBarry Bonds\nBasket Case\nBattery Acid\nThe Battle of Evermore\nThe Beast\nBeast of Burden\nBeat It\nBeautiful\nBeautiful Day\nBeautiful Disruption\nBeautiful Girls\nBeautiful Light\nBecause I Got High\nBeen Getting Money\nBeez Like\nBehind Blue Eyes\nBelieve In Love\nBest of My Love\nBetter\nBetter Now\nBetter Together\nBeverly Hills\nBig Amount\nBIG BANK\nBig Brother\nBig City Nights\nBig Iron\nBig Lie\nBig Log\nBig Poppa\nBig Shot\nBig Weenie\nBigger Than Us\nBillie Jean\nBitch You Ain't S**t\nBitch, Dont Kill My Vibe\nBlack Beatles\nBlack Boy Fly\nBlack Dog\nBlack Hole Sun\nBlack Magic Woman\nBlack Mountain Side\nBlack Mozart\nBlack Panther\nBlack Smoke Rising\nThe Blacker The Berry\nThe Blacker the Berry\nBlackout\nBlame Game\nBlame It On Me\nBleed It\nBlem\nBlessed\nBlessings\nBlood Diamonds\nBLOOD.\nBloodshot Eyes\nBloody Waters\nBlow My High\nBlow the Whistle\nBlow the Wistle\nBlue Laces 2\nBlue Suede\nBlue Tint\nBluffin'\nBoca Raton\nBohemian Rhapsody\nBOMPTOWN FINEST\nBonjour\nBoredom\nThe Boss\nBoss Life\nBoth\nBoth Eyes Closed\nBoulevard of Broken Dreams\nBounce\nBounce It\nBout a Dolla\nThe Box\nThe Boxer\nThe Boys Are Back In Town\nThe Boys of Summer\nBoyz-N-The Hood\nBrain Stew\nBrandy\nBrass Monkey\nBreak My Stride\nBreak Stuff\nBreakdown\nThe Breakup Song\nBreathe In Breathe Out\nBreezeblocks\nBrighton Rock\nBring It On\nBring It On Home\nBring It On Home to Me\nBring Me Down\nBring the Noise\nBringin' on the Heartbreak\nBroccoli\nBrodie Street\nBroken Safety\nBroken Whiskey Glass\nBron-Y-Aur Stomp\nBrooklyn's Finest\nBrown Eyed Girl\nBrown Sugar\nBucket List\nBullet With Butterfly Wings\nBULLETPROOF\nBulls On Parade\nBuried Alive\nBurning Heart\nBurnout\nBurritos\nBust a Move\nBusy Earnin'\nBut It's Alright\nButtercup\nBuzzin'\nBy the Time I Get to Arizona\nBy the Way\nC.R.E.A.M.\nCalifornia\nCalifornia Love\nCalifornia Vacation\nCalifornication\nCall Me\nCan I Kick It?\nCan I Live\nCan't Be Saved\nCan't Get Right\nCan't Have Everything\nCan't Knock The Hustle\nCan't Live Without You\nCan't Take a Joke\nCan't Tell Me Nothing\nCan't You Hear Me Knocking\nCan«t Knock A Hustle\nCanal Street\nCandy Paint\nCANT GET IN KANADA\nCareless Whisper\nCaress Me Down\nCaroline\nCarrollton\nCarry On Wayward Son\nCartoons and Cereal\nCashin' Out\nCashmere Thoughts\nCat Scratch Fever\nCatalina\nCaught Their Eyes\nCaution\nCelebration\nCelebration Day\nCenterfold\nThe Chain\nChain Smoker\nChamber of Reflection\nChampion\nChampionships\nA Change is Gonna Come\nA Change Is Gonna Come\nChanges\nChapter Six\nChapter Ten\nChateau\nCheck Yo Self\nCheckmate\nCheerleader\nCherub Rock\nChica Me Tipo\nThe Children\nChildren of the Damned\nChildrens' Story\nChill Bill\nChina Town\nChina White\nChump\nChurch\nChurch for Thugs\nCinderella Man\nCircles\nCliffs of Dover\nCloser to the Sun\nClosing Time\nCoCo\nCocoa Butter Kisses\nCoconut\nCodeine Dreaming\nCold\nCold As Ice\nCold Hearted II\nCold Outside\nCold Wind Blows\nColdest Winter\nCollard Greens\nCollect Calls\nCome and Get Your Love\nCome As You Are\nCome On Eileen\nComing Clean\nComing Home\nComing Of Age\nCommotion\nCommunication Breakdown\nCommunist Daughter\nCompany\nComplacent Race\nComplexion\nCompton\nCompton's N the House\nCongratulations\nControl\nCops Shot the Kid\nCould You Be Loved\nThe Cover of \"Rolling Stone\"\nCowboy\nCowboys\nCrack Music\nCrash\nCrazy\nCrazy In Love\nCrazy On You\nCrazy Rap\nCrazy Train\nCrooked Smile\nThe Crunge\nCudi Zone\nCult of Personality\nCum On Feel the Noize\nCurtains Up\nCut Her Off\nCut It\nD.J.'s\nD' Evils\nD'yer Mak'er\nDa S**t\nDammit\nDance Monkey\nDance with the Devil\nDancing Days\nDancing In the Moonlight\nDancing With Myself\nDangerous\nDark Fantasy\nDark Lady\nDate Rape\nDaughters\nDavidian\nDay 'n' Nite\nDays Go By\nDazed and Confused\nDead and Gone\nDead People\nDead Presidents II\nDead Wrong\nDead!\nDedicated\nDedication\nDEEPER THAN RAP\nDeja Vu\nDEVASTATED\nDevil Eyes\nDevil In a New Dress\nThe Devil is a Lie\nDiamonds From Sierra Leone\nDiamonds from Sierra Leone\nDigits\nDirty Work\nThe Distance\nDistance\nDNA.\nDo I Wanna Know?\nDo It Again\nDo Not Disturb\nDo Your Stuff\nDoctor's Advocate\nThe Documentary\nThe Documentary 2\nDoin' Time\nDollar and a Dream\nDon't Believe the Hype\nDon't Bring Me Down\nDon't Let Go\nDon't Let Up\nDon't Make No Promises\nDon't Matter\nDon't Matter To Me\nDon't Need Your Love\nDon't Pretend\nDon't Push\nDon't Stop Believin'\nDon't Stop Me Now\nDon't Stop the Rock\nDon't Wanna Fight\nDon't Worry\nDonÕt Trip\nDone Did It\nDopeman\nDouble Up\nDown On the Corner\nDown Under\nDraco\nDragula\nDream Evil\nDream On\nDreams\nDrift Away\nDrip Too Hard\nDrive Slow\nDroppin' Seeds\nDrove U Crazy\nDrunk and Hot Girls\nDUCKWORTH.\nDunes\nDust In the Wind\nDynamite\nEarth Angel\nEat Me\nEbin\nEdge of Darkness\nEdge of Seventeen\nEl Chapo\nElectric Feel\nELEMENT.\nElevate\nEm Calls Paul\nEmenius Sleepus\nEmotionless\nEncore \nEnd of the Line\nEnergy\nEnjoy Right Now, Today\nEnough\nEnter Galactic\nEnter Sandman\nErase Me\nEruption\nERYS\nEven Flow\nEvery Morning\nEvery Rose Has Its Thorn\nEvery Season\nEverybody\nEverybody Wants To Be Somebody\nEverybody Wants to Rule the World\nEverybody's Something\nEveryday Struggle\neverything\nEverything I Am\nEverything's Good\nEvil Deeds\nEvil Woman\nExpress Yourself\nF.O.D.\nF**kin' Problems\nF*ck Your Ethnicity\nF*ckwithmeyouknowigotit\nFade to Black\nFake Love\nFall\nFalling Down\nFalling In Love\nFamily Business\nFamily Feud\nFamous\nFandango\nFantastic Man\nFast Lane\nFat Bottomed Girls\nFat Lady Sings\nFat Lip\nFaucet Failure\nFavorite Song\nFCUKIZYOUDOIN\nFEAR.\nFeds Did a Sweep\nFeds Watching\nFeel\nFeel So Good\nFEEL.\nFeelin' It\nFeeling Whitney\nFight the Power\nFigure It Out\nFinal Fantasy\nFinal Thought\nFinesse\nFinesse the Plug Interlude\nFire Dept\nFire Squad\nFlash Light\nFlashing Lights\nFlight of Icarus\nFlip\nFLIP THE SWITCH\nFlirtin' With Disaster\nFloat On\nFly\nFlying Whales\nThe Fool\nFooled Around and Fell in Love\nFor Free?\nFor Sale?\nFor What It's Worth\nFor Whom the Bell Tolls\nForever Young\nForeword\nForgiveness\nForgot About Dre\nFortunate Son\nFour Sticks\nFox On The Run\nFr Fr\nFreaking Out the Neighborhood\nFreaks\nFreaky\nFree Bird\nFree Fallin'\nFree Falling\nFree Smoke\nFree Spirit\nFREE THE HOMIES INTERLUDE\nFreedom\nFriend of Mine\nFriend Or Foe\nFriends\nFrom Adam\nFu-Gee-La\nF**k tha Police\nFuck up some Commas\nF*****g Hostile\nFuel\nThe Funeral\nFury of the Storm\nFuture People\nG. O. M. D.\nG.O.M.D.\nGallows Pole\nGalvanize\nThe Gambler\nGang Bang Anyway\nGang Related\nGangland\nGangsta\nGangsta Gangsta\nGangsta's Paradise\nGarden Grove\nGarden Shed\nGears\nGemini\nThe Genesis\nGeorgia on My Mind\nGet Down\nGet Down On It\nGet Em High\nGet It Together\nGet Low\nGet Ready\nThe Ghetto\nGhetto Dreams\nGhost\nGihad\nGimme All Your Love\nGimme All Your Lovin'\nGimme Little Sign\nGimme Shelter\nGimme the Loot\nGin and Juice\nGirl On Fire\nGive It Up\nGive Thanks\nGlitter\nThe Glory\nGlow\nGo Flex\nGo Loko\nGo to Hell\nGOD.\nGod's Plan\nGoddamn\nGoing Bad\nGoing On\nGoing Through Changes\nGoing to California\nGoing Up the Country\nGold Digger\nGoldie\nGone\nGood Ass Intro\nGood Day\nGood Dope\nGood Guy\nGood Kid\nGood Life\nGood Morning\nGood Night\nGood Riddance\nGood Times Bad Times\nGood Times Roll\nGoodbye\ngoosebumps\nGorgeous\nGot It\nGot to Be Real\nGot Your Money\nGotta Have It\nGraduation Day\nThe Greatest\nGreatest\nGreatest Show On Earth\nGreen Grass and High Tides\nGreen River\nGrindin'\nGrinding All My Life\nGrowing Pains III\nGrown & Sexy\nGTA\nGuess Who\nGuillotine\nGyalchester\nHail to the King\nHalftime\nHallelujah\nHallowed Be Thy Name\nHalo Theme Mjolnir Mix\nHANDGUN\nHappy Together\nA Hard Day's Night\nHarder Than You Think\nHash Pipe\nHashtag\nHate Bein' Sober\nHate It or Love It\nHats Off to Harper\nHave Mercy\nHave You Ever Seen the Rain\nHaving a Blast\nHawaiian Roller Coaster Ride\nHe got game\nHead Over Feet\nHeadBand\nHeard 'Em Say\nThe Heart from Your Hate\nHeart Of A Lion\nHeart of a Lion\nHeart of Glass\nThe Heart Part 4\nHeart-Shaped Box\nHeartbreaker\nHeartless\nHeat of the Moment\nHeaven\nHeaven Falls \nHeaven's Arms\nHell of a Life\nHell of a Night\nHello\nHelpless\nHelter Skelter\nHere I Go Again '87\nHere We Go\nHey Mama\nHey Tonight\nHey Ya!\nHey, Hey, What Can I Do\nHigh Demand\nHigher\nHigher Ground\nHigher Love\nHighway Star\nHighway Tune\nHiiiPower\nThe Hills\nHip Hop Is Dead\nHit em Up\nHit This Hard\nHo Hey\nHol' Up\nHold Me Tight\nHold the Line\nHolding out for a Hero\nHoliday\nHoliday In Cambodia\nHolland, 1945\nHoly Diver\nHoly For Tonight\nHoly Ghost\nHoly Wars...The Punishment Due\nHome Sweet Home\nHomecoming\nHoneyweed\nHood Gone Love It\nHood Politics\nHooked On a Feeling\nHope\nA Horse With No Name\nHot\nHot for Teacher\nHot N*gga\nHotel California\nHotline Bling\nHouse Of Flying Daggers\nHouse of Flying Daggers\nThe House of the Rising Sun\nHow Bout Now\nHow High\nHow I Did It\nHow Many Mics\nHow Many More Times\nHow Much A Dollar Cost\nHow Much a Dollar Cost\nHow We Do\nHow We Roll\nHUMBLE.\nHundred\nHunger and Thirst\nHungry for Heaven\nHungry Like the Wolf\nHurt\nHurt a N***a Feelings\nHussle & Motivate\nHustle Hard Remix\nHypnotize\nHysteria\nHyyerr\nI\ni\nI Ain't Got Time!\nI Ain't No Joke\nI Ain't tha 1\nI Am\nI Be On\nI Can\nI Can Help\nI Can See Clearly Now\nI Can't\nI Can't Explain\nI Can't Go On Without You\nI Can't Quit You Baby\nI Could Have Been a Dreamer\nI Don't Fuck With You\nI Don't Like\nI Fall Apart\nI Found You\nI Go Crazy\nI Go to the Barn Because I Like the\nI Got 5 On It\nI Heard It Through the Grapevine\n Died in Your Arms Tonight\nI Know There's Gonna Be\nI Like It\nI Love It\nI Miss You\nI Put a Spell On You\nI Remember\nI Walk the Line\nI Want You Back\nI Won't\nI Won't Back Down\nI Wonder\nI Wonder Why\ni-drip-or-is\nI'd Rather Go Blind\nI'll Be Missing You\nI'll Fly Away\nI'm a Boss\nI'm Bad\nI'm Designer\nI'm Different\nI'm Drinking \nI'm Free\nI'm Gone\nI'm Not the Only One\nI'm Shipping up to Boston\nI'm so Groovy\nI'm Upset\nIce Ice Baby\nIce Melts\nIf I Could Turn Back Time\nIf I Ruled the World\nIf It Ain't Ruff\nIf It Wasn't for You\nIght\nIgnition Remix\nIl buono, il brutto, il cattivo\nImmigrant Song\nIn My Dreams\nIn My Feelings\nIn the Aeroplane Over the Sea\nIn the Air Tonight\nIn the End\nIn the Mood\nIn Too Deep\nIn too Deep\nIn-A-Gadda-Da-Vida\nIncredible\nInside Out\nInstitutionalized\nInt'l Players Anthem\nInterlude\nInto the Hollow\nInto the Mystic\nIntoxicated\nIronic\nIs There Any Love\nIs There More\nIsland In the Sun\nIsland Song\niSpy\nIt Ain't Hard To Tell\nIt Was a Good Day\nIt Wasn't Me\nIt's A Raid\nIt's a Vibe\nIt's Late\nIt's Okay\nIt's So Easy\nIt's So Hard to Say Goodbye to Yesterday\nIt's the End of the World As We Know It\nIt's Tricky\nJack and Diane\nJaded\nJailhouse\nJanuary 28th\nJAPAN\nJeopardy\nJerk It Out\nJessie's Girl\nJesus Piece\nJesus Walks\nThe Joker\nJoker and the Thief\nJonestown\nJorja Interlude\nJourney\nJuice\nJuicy\nJump\nJump Around\nJumper\nJumpin' Jack Flash\nJumpman\nJungle\nJust a Friend\nJust a Lil Bit\nJust Another Day\nJust Lose It\nJust One Look\nJust Playing\nJust what I am\nJust What I Needed\nK\nKamikaze\nKashmir\nKeep ya Head up\nKeep Ya Head Up\nKeisha's Song\nKen's Theme\nKeyz 2 the City 2\nKick Some Ass\nKickstart My Heart\nKids\nThe Kids Aren't Alright\nKill Jay Z\nKill the Dance\nKill Yourself\nKiller Queen\nKilling In the Name\nKilling Me Softly With His Song\nKing Kunta\nThe King of Carrot Flowers, Pt. 1\nThe King of Carrot Flowers, Pts. 2 & 3\nKing of Rock and Roll\nKing's Dead\nKiss The Ring\nKiss the Ring\nKiss the Sky\nKMT\nKnights of Cydonia\nKnockin' on Heaven's Door\nKnow Yourself\nKodachrome\nKRS-One\nKryptonite\nKush & Corinthians\nLA\nLady Marmalade\nLady Starlight\nLake Shore Drive\nLast Call\nThe Last In Line\nLast Kiss\nLast Resort\nLast Time\nLast Time That I CheccÕd\nLast Time You Seen\nLate\nLateralus\nLay Down\nLayla\nLean On Me\nLeave\nLegacy\nLegend\nLemon\nThe Lemon Song\nThe Less I Know the Better\nThe Let Down\nLet It Grow\nLet Me Blow Ya Mind\nLet's Get It On\nLet's Go\nLet's Go Get Stoned\nLet's Ride\nLevel\nLeviathan\nLife\nLife's a Bitch\nThe Light\nLight It Up\nLight of the Seven\nLights\nLike Father Like Son 2\nLike Father, Like Son\nLike Toy Soldiers\nLil Bit\nLil Jimmy Skit\nLimelight\nListen to the Music\nLithium\nLittle Diane\nLittle Talks\nLitty\nLive and Let Die\nLive at E's\nLive Bonus Track\nLiving Dead Girl\nLiving It Up\nLiving Loving Maid\nLoaded Bases\nLocation\nLock Up the Wolves\nLocked Up\nLodi\nLonely\nLonely Boy\nLonely Teenager\nLong As I Can See the Light\nLong Cool Woman\nLongview\nLook At Me!\nLook On Down from the Bridge\nLookin At You\nLookin' Out My Back Door\nLooks Are Deceiving\nLose You\nLose Yourself\nLoser\nLosing My Religion\nLoss 4 Wrdz\nLost\nLost in the Cold\nLost In the World\nLove Came to Me\nLove Lockdown\nLove on the Brain\nLove Sosa\nLove Stinks\nLove the Way You Lie\nLove You More\nLove Yourz\nLOVE.\nLover, Leaver\nLovers Who Wander\nLoving You Sunday Morning\nLowdown\nLower the Heavens\nLOYALTY.\nLucky You\nLUST.\nm.A.A.d city\nMachine Gun Funk\nMad World\nMade In America\nMade You Look\nMadiba Riddim\nMadness\nMadonna\nMagnus Carlsen\nMajestic\nMajor Distribution\nMake Her Say\nMake It Bun Dem\nMake It Real\nMake It Wit Chu\nMake Way\nMama Kin\nMama, I'm Coming Home\nMan of the Year\nMan On The Moon\nMan On the Silver Mountain\nManifest\nMany Men\nMaple\n14-Mar\nMarcy Me\nMarshawn Lynch\nMary Jane's Last Dance\nThe Mask\nMask Off\nMassage In My Room\nThe Masterplan\n#!*@ Me\nMe & My B*tch\nMe OK\nMe, Myself & I\nMean Streets\nMedication\nMembers Only\nMemento Mori\nMemory Lane\nThe Message\nMet Gala\nMethod Man\nMetropolis\nThe Middle\nMiddle\nMIDDLE CHILD\nMidnight City\nMidnight Rider\nMidnight Special\nMight as Well\nMillion While You Young\nMind Playing Tricks on Me\nMinnesota\nMisfit Love\nMiss You\nMission\nMista Mista\nMisty Mountain Hop\nMo Bamba\nMo Money Mo Problems\nMob Ties\nMoby Dick\nMockingbird\nModern Love\nMoment of Truth\nMoment of Violence\nMomma\nMoney Made Me Do It\nMoney Trees\nMonsoon Rock\nMonster\nMonsters\nMoonlight\nMore Than a Feeling\nThe Morning\nMortal Man\nMosh\nMother\nMotiv8\nThe Motto\nMove That Dope\nMove to the City\nMr. Blue Sky\nMr. Brownstone\nMr. Crowley\nMr. Jones\nMs. Jackson\nMula\nMurder on My Mind\nMy 1st Single\nMy Bad\nMy Best Friend's Girl\nMy Flag \nMy Girl\nMy Michelle\nMy Name Is Jonas\nMy Side\nMy Sweet Lord\nMy Way\nMy Way Home\nMy World\nMystery\nN\nN.Y. State of Mind\nNail Pon Cross\nName Me King\nNana\nNas Is Like\nNeighbors\nNephew\nNever Enough\nNever Let Me Down\nNever Recover\nNever There\nNew Colossal Hate\nNew Level\nNew Song\nNew Thrash\nThe New Workout Plan\nNew Wu\nThe New Wu\nNew York Skit\nNew York, New York\nThe Next Episode\nNice Boys\nNice For What\nNice Guy\nN****z Know\nThe Night King\nNight Moves\nNight of the Living Baseheads\nNightrain\nNights In White Satin\nNighttrain\nNikki\nNo Flockin\nNo Hands\nNo Interruptions\nNo Long Talk\nNo Love\nNo Make-Up\nNo More Fun and Games\nNo More Parties in LA\nNo One\nNo One Knows\nNo One Like You\nNo Option\nNo Place for a Hero\nNo Problem\nNo Punches\nNo Quarter\nNo Role Modelz\nNo Scrubs\nNo Sleep Till Brooklyn\nNo Smoke\nNo Such Thing\nNo Tears\nNo Tellin'\nNo Woman\nNo Woman, No Cry\nNOIZE\nNonchalant\nNonstop\nNorf Norf\nNormal\nNot Afraid\nNot Alike\nNot For Radio\nNote To Self\nNote to Self\nNothin' On You\nNothings Into Somethings\nNovember\nNovember Rain\nNow & Forever\nNow Or Never\nNow!\nThe Number of the Beast\nO-O-H Child\nThe Ocean\nOcean Man\nOften\nOh Comely\nOh Klahoma\nOl' English\nOn Fire\nOn Me\nOn My Own\nOn the Hook\nOn the Road Again\nOn Top\nOne\nOne & Only\nOne Day\nOne Headlight\nOne In a Million\nOne Love\nOne More Chance\nOne Night\nOne Shot 2 Shot\nOne That Got Away\nOne Time 4 Your Mind\nOnly\nOnly a Man\nOodles O' Noodles Babies\nOpps\nOrdinary Man\nOroborus\nOtherside\nOui\nOut On the Tiles\nOut ta Get Me\nOutside\nOutta My Head\nOutta Time\nOver My Head\nOver Now\nOver the Hills and Far Away\nP\nPaddle Out\nPain\nPalm Trees\nPanama\nPanic\nPaper Planes\nParadise\nParadise City\nParamedic!\nParanoia\nParanoid\nParental Discretion Iz Advised\nParty Like a Rock Star\nParty Up\nThe Passenger\nPassionfruit\nPatience\nPatient\nPatty Cake\nPaul\nPawn Shop\nPay You Back\nPeace of Mind\nPeaceful Easy Feeling\nPeak\nPenitentiary\nPeople Are Strange\nPerfect Picture\nPerfect Situation\nPhotograph\nPiano Man\nPICK IT UP\npick up the phone\nPipe It Up\nPlain Jane\nPlay That Funky Music\nPlease Come to Boston\nPOA\nPoe Mans Dreams\nPoetic Justice\nPoison\nPoison Dream\nPolitics As Usual\nPoppin' Tags\nPork and Beans\nPortland\nPossum Kingdom\nPot of Gold\nPothole\nPower\nPOWER\nPower Trip\nPraise the Lord\nPray\nPray For Me\nPrayer of the Refugee\nPreach\nPRIDE.\nPrima Donna\nThe Prisoner\nProud Mary\nPsycho\nPuke\nPull Me Under\nPulling Teeth\nPump it Up\nPump It Up\nPurple Sea\nPursuit Of Happiness\nPursuit of Happiness\nPush It\nPusha Man\nPUSSY MONEY FAME\nPut You On the Game\nPut Your Records On\nPyrex Vision\nQuiet On tha Set\nQuik's Groove\nR.O.A.R.\nRack City\nRAF\nRah!\nRain Dance\nRain Man\nThe Rain Song\nRainbow In the Dark\nRaindrops Keep Falling On My Head\nRamble On\nRamblin' Man\nRap Gamez Callin\nRap God\nRap N****s\nRasputin\nRatchet Happy Birthday\nReady or Not\nReady to Die\nReady to Let Go\nReal\nReal Big\nReal Rich\nThe Real Slim Shady\nReality Bath\nReality Check\nReally Really\nRebel Rebel\nRebel Yell\nThe Recipe\nReckless Life\nRed Intro\nRedbone\nRedemption\nRedemption Interlude\nRedemption Song\nREEL IT IN\nReelin' In the Years\nRegrets\nRemedy\nRenegades of Funk\nRent Money\nRepresent\nReptilia\nResonance\nRespect\nRespect the Game\nResurrection Man\nReturn of the Mack\nReturn Of The North Star\nReturn of the Northstar\nReverse\nRhythm of Love\nRich & Sad\nRicky Ticky Toc\nRidaz\nRide\nRide the Lightning\nRigamortus\nRight Above It\nRight Back\nRight Hand 2 God\nThe Ringer\nRiot\nRIP\nRiptide\nRiver\nRiver In the Road\nRivers of Babylon\nRoad to Zion\nRoboCop\nRock 'N' Roll Children\nRock and Roll\nRock You Like a Hurricane\nRock'n Me\nRocket Queen\nrockstar\nRollin\nRollin'\nRonald Reagan Era\nRooster\nRosa Parks\nRoses\nRound and Round\nRoundabout\nRoutes\nRoyals\nRubber Band Man\nRuff Ryder Anthem\nRun It Up\nRun Through the Jungle\nRun to the Hills\nRun, Pig, Run\nRunaround Sue\nRunaway\nRunnin\nRunnin'\nRunning Joke\nRyda\nSacred Heart\nSacrifices\nSafari Song\nSame Bitches\nSame In the End\nSame Old Song and Dance\nSan Andreas Theme Song\nSandra's Rose\nSanteria\nSassafras Roots\nSaturday Night's Alright for Fighting\nSaturday Nights\nSay A'\nSay Hey\nSay It Ain't So\nSay Less\nSay That Then\nSay You Will\nScar Tissue\nScared Now\nScarlet Begonias\nScary Little Green Men\nSchool Spirit\nSchool Spirit Skit 1\nSchool Spirit Skit 2\nThe Score\nScrape\nScream On Em\nSea of Love\nThe Season \nSeasons\nSeduction\nSee Me Fall\nSee Me Now\nSee No Evil\nSee You Again\nSee You In My Nightmare\nSeed\nThe Seeker\nSeen It All\nSelf\nSelf Esteem\nSemi-Charmed Life\nSend Her My Love\nSend Me an Angel\nSeptember\nSession One\nSeven Nation Army\nSex Skit\nShabba\nShake That\nShallow\nShe\nShe Knows\nShe's a Rebel\nSherane A.K.A Master SplinterÕs Daughter\nShimmy Shimmy Ya\nShoegaze\nShook Ones, Pt. II\nShoot\nShoota\nShooting Stars\nShort Change Hero\nThe Show Goes On\nShow Out\nShut 'Em Down\nSick, Sick, Sick\nSICKO MODE\nSilent Lucidity\nSimon Says\nSimple As...\nSimple Things\nThe Sin and the Sentence\nSince I've Been Loving You\nSince Way Back\nSing About Me, I'm Dying of Thirst\n The Dock of the Bay\nSitting, Waiting, Wishing\nSkepta Interlude\nSkit #1\nSkit #2\nSkit #3\nSkit #4\nSky Might Fall\nSky Walker\nSlave Mill\nSLAY\nSlide\nSlow Down\nSlow Jamz\nSlow Ride\nSlum Anthem\nSmells Like Teen Spirit\nSmile\nSmoke Again\nSmoke Two Joints\nSmooth\nSnow\nSo a Child May Follow\nSo Appalled\nSo Bad\nSo Fresh, So Clean\nSolo Dolo\nSome Girls\nSome Might Say\nSomebody Else\nSomebody to Love\nSomeday Never Comes\nSomething 2 Dance 2\nSomething Like That\nSometimes...\nSomewhere Over the Rainbow\nSong for No One\nThe Song Remains the Same\nSonny's Missing\nSorry, Blame It On Me\nSoul Food\nSoulshine\nSound & Color\nThe Sound of Silence\nSoundtrack 2 My Life\nSouthern Nights\nSpace Bound\nSpace Oddity\nSpaceship\nSpeak Life\nSpecial\nSpecial Delivery\nSpend Some Time\nSpiderwebs\nSpirit In the Sky\nThe Spirit of Radio\nThe Spiteful Chant\nSplash Warning\nSpoil My Night\nSt. Brick Intro\nSt. Tropez\nStacy\nStairway to Heaven\nStan\nStand By Me\nStand by Me\nStand For\nStand Up and Shout\nStanding On Ferraris\nStar67\nStart from Scratch\nStatus Symbol 3\nStay\nStay High\nStep Up\nStepping Stone\nStill D.R.E.\nStill Dre\nStill Fly\nStill Loving You\nStillborn\nStormbringer\nStory of My Life\nThe Story of O.J.\nStraight Outta Compton\nStraight Through the Heart\nStraight to Hell\nStrange Highways\nStranglehold\nStreet Dreams\nStreet Lights\nStressed Out\nStricken\nThe Stroke\nStronger\nThe Struggle Discontinues\nStuck in My Ways\nStudio\nStutter\nSucca Proof\nSuga Suga\nSugar Wraith\nSuicidal Thoughts\nSultans of Swing\nSummer Games\nSummertime\nSummertime in Paris\nThe Sun Comes Up\nSundown\nSunshine\nSuper Trapper\nSuperstar\nSurfin'\nSurgical Gloves\nSurrender\nSurvival\nSurvival of the Fittest\nSusie Q\nSuture Up Your Future\nSUU WHOOP\nSweet Child O' Mine\nSweet Dreams\nSweet Emotion\nThe Sweet Escape\nSweet Hitch Hiker\nSweet Home Alabama\nSwimming Pools\nSwitch Sides\nSympathy for the Devil\nSyncopated Healing\nT.G.I.F.\nTables\nTainted Love\nTake Care\nTake It Easy\nTake Me Home, Country Roads\nTake Me Out\nTake Me to Church\nTake On Me\nTake on Me\nTake What You Want\nTakin' Care of Business\nTakin' Shots\nA Tale Of 2 Citiez\nA Tale of 2 Citiez\nTalk\nTAlk tO Me\nTalk Up\nTalkin' 2 Myself\nTammy's Song\nTangerine\nTeach me How to Dougie\nTeam\nTease Me, Please Me\nTeenage Fever\nA Teenager In Love\nTen Crack Commandments\nTen Thousand Fists\nTennis Court\nThank You\nThanx\nThat's How You Feel\nThat's the Way\nThat's the Way It Is\nThese Walls\nThey Reminisce Over You\nThings Done Changed\nThink About You\nThis Feeling\nTho Freestyle\nThotiana\nThree Little Birds\nThrough the Fire and Flames\nThrough The Wire\nThrough the Wire\nThugz Mansion\nTic Tac Toe\n'Till I Collapse\nTill I Collapse-Remix\nTill I Get There\nTill The End\nTime of the Season\nTime Travel\nTo Be Honest\nTo Fight and Conquer\nToday\nToday Is The End\nToday was a Good Day\nToes\nTom Sawyer\nTOO BRAZY\nTOO COCKY\nToo Much\nToo Much Sauce\nToo Young\nTop Down\nToss a Coin to Your Witcher\nTouch The Sky\nTouch the Sky\nTransportin'\nTrap Party\nTrap Queen\nTrauma\nTravelin' Band\nThe Trooper\nTrouble Nobody\nTroublemaker\nThe Truth\nTubthumping\nTurnin' On the Screw\nTwentieth Century Man\nTwenty One\nTwo Tickets to Paradise\nTwo Words\nTwo-Headed Boy\nTwo-Headed Boy, Pt. 2\nType of Way\nu\nU\nU Mad\nUber Everywhere\nUltimate\nUnbelievable\nUncle\nUncle Tom's Cabin\nUnder My Voodoo\nUnder Pressure\nUnder the Bridge\nUnder the Graveyard\nUntil the World Goes Cold\nUntitled\nUp Around the Bend\nUp In the Clouds\nUp on the Wall\nUp There\nUp Up & Away\nUpholstery\nUproar\nUpside Down\nUptown Vibes\nUsed to Love Her\nVictory\nVictory Lap\nVoodoo\nW.T.P.\nWagon Wheel\nWaiting for My Ruca\nWake Me Up\nWake Me Up When September Ends\nWake Up Mr. West\nWake-Up Mr. West\nWalk Down\nWalk of Life\nWalk On the Wild Side\nWalk On Water\nWalk This Way\nWalk Wit Me\nWalked In\nWalking Back to Georgia\nWalking On Sunshine\nThe Wanderer\nWanna Be a Baller\nWanna Be Cool\nWar Pigs\nWarning\nWatch Out\nWatching Over\nWater\nWay Down We Go\nThe way I live\nThe Way I Live\nThe Ways\nWe Ain't\nWe Are the Champions\nWe Are Young\nWe As Americans\nWe Didn't Start the Fire\nWe Don't Care\nWe Major\nWe Ready\nWe Rock\nWe Will Rob You\nWe Will Rock You\nWe're Not Gonna Take It\nWe're Only Gonna Die for Our Arrogance\nWednesday Night Interlude\nWelcome Back\nWelcome To Heartbreak\nWelcome to Jamrock\nWelcome to Paradise\nWelcome to the Jungle\nWelcome to the Terrordome\nWesley's Theory\nWestside Story\nWet Dreamz\nThe What\nWhat a Wonderful World\n Wonderful World\nWhat Happened\nWhat I Got\nWhat I'm Here 4\nWhat Is and What Should Never Be\nWhat They Want\nWhat You Know\nWhat You Say\nWhat's Free\nWhat's my age again\nWhat's My Age Again?\nWhat's the Difference\nWhat's Up?\nWhatever You Like\nWhen I Come Around\nWhen I Was Broke\nWhen I'm Gone\nWhen It's Over\nWhen the Curtain Falls\nWhen the Levee Breaks\nWhen the Music's Over\nWhen the Smoke Is Going Down\nWhen the Time's Right\nWhen Will I See You Again\nWhere I'm From\nWhere Is My Mind?\nWhere or When\nWhere the Hood At\nWhere the Light Is\nWhere This Flower Blooms\nWhile My Guitar Gently Weeps\nWhisper to a Scream\nWhite Iverson\nWhite Label\nWho Dat Boy\nWho Do You Love?\nWho Shot Ya\nWho Will Survive In America\nWho'll Stop the Rain\nWho's Lovin' You\nWhole Lotta Love\nWhy You Always Hatin?\nWhy You Hate the Game\nWild World\nWildfire\nWin Is a Win\nWin Is A Win\nThe Wind Cries Mary\nWind of Change\nWit the S***s\nWith or Without You\nWithout Me\nWoman\nWomp Womp\nWon't Back Down\nWonderland\nWonderwall\nWoooa\nWords As Weapons\nWork\nWork Out\nWork REMIX\nWorkout Plan\nThe World At Large\nThe World Is Yours\nWould?\nWouldn't Get Far\nWouldn't It Be Nice\nWow Freestyle\nWow.\nWrong Way\nX\nX Gon Give it to ya\nX Gon' Give It to Ya\nXxplosive\nXXX.\nYAH.\nYellow Brick Road\nYes Indeed\nYesterday\nYet\nYonkers\nYou & The 6\nYou Ain't Gotta Lie\nYou Can Call Me Al\nYou Can't Always Get What You Want\nYou Don't Mess Around With Jim\nYou Give Me All I Need\nYou Got Lucky\nYou Make Me Feel Like Dancing\nYou Make My Dreams\nYou Really Got Me\nYou Shook Me\nYou Shook Me All Night Long\nYou Worry Me\nYou're Crazy\nYou're Never Over\n Got What I Need\nYoung N***a\nYour Body Is a Wonderland\nYour Time Is Gonna Come\nYours Truly, Austin Post\nZack and Codeine\nZealots\nThe Zephyr Song\nZEZE\nThe Zoo\nZoom\n1.5\n1\n2 Phones\n03' Adolescence\n3's & 7's\n4 AM\n4:44\n5 Million Intro\n5th Of Henn\n6 Foot 7 Foot\n6 God\n6 Man\n6PM In New York\nThe 6th Sense\n7 Years\n8 Ball\n8 Out Of 10\n10 Bands\n10 Bricks\n10 TIMES\n20 Joints\n21 Guns\n21 Questions\n"
    }
   ],
   "source": [
    "library_df = GetIDs(library_df)"
   ]
  },
  {
   "cell_type": "code",
   "execution_count": 291,
   "metadata": {},
   "outputs": [],
   "source": [
    "playlist_df = GetData(playlist_df)"
   ]
  },
  {
   "cell_type": "code",
   "execution_count": 293,
   "metadata": {},
   "outputs": [],
   "source": [
    "library_df = GetData(library_df)"
   ]
  },
  {
   "cell_type": "code",
   "execution_count": 292,
   "metadata": {},
   "outputs": [
    {
     "output_type": "execute_result",
     "data": {
      "text/plain": "              Name           Artist        Genre    Year         Date Added  \\\n0         Santeria          Sublime  Alternative  1996.0   5/11/12, 8:56 PM   \n1       Take On Me             a-ha          Pop  1985.0  9/10/18, 12:40 PM   \n2  Cliffs of Dover     Eric Johnson         Rock  1990.0   8/16/17, 2:52 PM   \n3  What I'm Here 4       Gang Starr  Hip-Hop/Rap  1998.0   12/2/16, 2:17 AM   \n4           Heaven  Los Lonely Boys         Rock  2004.0   5/25/18, 8:48 PM   \n\n         Last Played  Plays                      id  popularity  Danceability  \\\n0  7/28/20, 12:05 PM  314.0  2hnMS47jN0etwvFPzYk11f          77         0.682   \n1    7/9/20, 2:43 PM  220.0  2WfaOiMkCvy7F5fcp2zZ8L          84         0.573   \n2    8/2/20, 5:21 PM  184.0  5qm0KiVKMXW1kq6VrnIhz5          61         0.449   \n3    8/2/20, 5:11 PM  172.0  6NjXLhejj5dVjTyeU8SbVM          46         0.823   \n4    8/2/20, 4:46 PM  163.0  1HXy5I3HTWq8OvxCn0z7G7          78         0.677   \n\n   Energy  Loudness  Speechiness  Acousticness  Instrumentalness  Liveness  \\\n0   0.765    -5.021       0.0395        0.0268          0.000034    0.1880   \n1   0.902    -7.638       0.0540        0.0180          0.001250    0.0928   \n2   0.775   -12.029       0.0405        0.1620          0.149000    0.2480   \n3   0.809    -3.871       0.2080        0.1050          0.000000    0.3560   \n4   0.556    -6.544       0.0306        0.2630          0.000000    0.1050   \n\n    Tempo  \n0  90.807  \n1  84.412  \n2  94.907  \n3  91.007  \n4  80.009  ",
      "text/html": "<div>\n<style scoped>\n    .dataframe tbody tr th:only-of-type {\n        vertical-align: middle;\n    }\n\n    .dataframe tbody tr th {\n        vertical-align: top;\n    }\n\n    .dataframe thead th {\n        text-align: right;\n    }\n</style>\n<table border=\"1\" class=\"dataframe\">\n  <thead>\n    <tr style=\"text-align: right;\">\n      <th></th>\n      <th>Name</th>\n      <th>Artist</th>\n      <th>Genre</th>\n      <th>Year</th>\n      <th>Date Added</th>\n      <th>Last Played</th>\n      <th>Plays</th>\n      <th>id</th>\n      <th>popularity</th>\n      <th>Danceability</th>\n      <th>Energy</th>\n      <th>Loudness</th>\n      <th>Speechiness</th>\n      <th>Acousticness</th>\n      <th>Instrumentalness</th>\n      <th>Liveness</th>\n      <th>Tempo</th>\n    </tr>\n  </thead>\n  <tbody>\n    <tr>\n      <th>0</th>\n      <td>Santeria</td>\n      <td>Sublime</td>\n      <td>Alternative</td>\n      <td>1996.0</td>\n      <td>5/11/12, 8:56 PM</td>\n      <td>7/28/20, 12:05 PM</td>\n      <td>314.0</td>\n      <td>2hnMS47jN0etwvFPzYk11f</td>\n      <td>77</td>\n      <td>0.682</td>\n      <td>0.765</td>\n      <td>-5.021</td>\n      <td>0.0395</td>\n      <td>0.0268</td>\n      <td>0.000034</td>\n      <td>0.1880</td>\n      <td>90.807</td>\n    </tr>\n    <tr>\n      <th>1</th>\n      <td>Take On Me</td>\n      <td>a-ha</td>\n      <td>Pop</td>\n      <td>1985.0</td>\n      <td>9/10/18, 12:40 PM</td>\n      <td>7/9/20, 2:43 PM</td>\n      <td>220.0</td>\n      <td>2WfaOiMkCvy7F5fcp2zZ8L</td>\n      <td>84</td>\n      <td>0.573</td>\n      <td>0.902</td>\n      <td>-7.638</td>\n      <td>0.0540</td>\n      <td>0.0180</td>\n      <td>0.001250</td>\n      <td>0.0928</td>\n      <td>84.412</td>\n    </tr>\n    <tr>\n      <th>2</th>\n      <td>Cliffs of Dover</td>\n      <td>Eric Johnson</td>\n      <td>Rock</td>\n      <td>1990.0</td>\n      <td>8/16/17, 2:52 PM</td>\n      <td>8/2/20, 5:21 PM</td>\n      <td>184.0</td>\n      <td>5qm0KiVKMXW1kq6VrnIhz5</td>\n      <td>61</td>\n      <td>0.449</td>\n      <td>0.775</td>\n      <td>-12.029</td>\n      <td>0.0405</td>\n      <td>0.1620</td>\n      <td>0.149000</td>\n      <td>0.2480</td>\n      <td>94.907</td>\n    </tr>\n    <tr>\n      <th>3</th>\n      <td>What I'm Here 4</td>\n      <td>Gang Starr</td>\n      <td>Hip-Hop/Rap</td>\n      <td>1998.0</td>\n      <td>12/2/16, 2:17 AM</td>\n      <td>8/2/20, 5:11 PM</td>\n      <td>172.0</td>\n      <td>6NjXLhejj5dVjTyeU8SbVM</td>\n      <td>46</td>\n      <td>0.823</td>\n      <td>0.809</td>\n      <td>-3.871</td>\n      <td>0.2080</td>\n      <td>0.1050</td>\n      <td>0.000000</td>\n      <td>0.3560</td>\n      <td>91.007</td>\n    </tr>\n    <tr>\n      <th>4</th>\n      <td>Heaven</td>\n      <td>Los Lonely Boys</td>\n      <td>Rock</td>\n      <td>2004.0</td>\n      <td>5/25/18, 8:48 PM</td>\n      <td>8/2/20, 4:46 PM</td>\n      <td>163.0</td>\n      <td>1HXy5I3HTWq8OvxCn0z7G7</td>\n      <td>78</td>\n      <td>0.677</td>\n      <td>0.556</td>\n      <td>-6.544</td>\n      <td>0.0306</td>\n      <td>0.2630</td>\n      <td>0.000000</td>\n      <td>0.1050</td>\n      <td>80.009</td>\n    </tr>\n  </tbody>\n</table>\n</div>"
     },
     "metadata": {},
     "execution_count": 292
    }
   ],
   "source": [
    "playlist_df.head()"
   ]
  },
  {
   "cell_type": "code",
   "execution_count": 297,
   "metadata": {},
   "outputs": [
    {
     "output_type": "execute_result",
     "data": {
      "text/plain": "             Name         Date Added    Year        Last Played  \\\n0        A.D.H.D.   7/6/15, 10:13 PM  2011.0   6/27/17, 9:58 AM   \n1  Ab-Souls Outro  8/12/19, 11:16 AM  2011.0                  0   \n2             ABC   6/27/18, 7:50 PM  1970.0  11/3/19, 11:24 AM   \n3    About a Girl    8/8/18, 1:53 PM  1989.0   2/28/19, 4:47 PM   \n4        About Me  10/25/16, 4:57 PM  2009.0    6/8/19, 5:50 PM   \n\n           Artist        Genre  Plays                      id  popularity  \\\n0  Kendrick Lamar  Hip-Hop/Rap   21.0  2Fw5S2gaOSZzdN5dFoC2dj          71   \n1  Kendrick Lamar  Hip-Hop/Rap    0.0  4VaL54I6TlzghRTzOhfr7L          47   \n2       Jackson 5     R&B/Soul   11.0  6wDviYDtmSDZ0S6TVMM9Vc          66   \n3         Nirvana  Alternative    3.0  55yvzYuvJYG2RUEnMK78tr          70   \n4         Raekwon  Hip-Hop/Rap    1.0  5hiatfPmopoExZRZ2O1g5S          58   \n\n   Danceability  Energy  Loudness  Speechiness  Acousticness  \\\n0         0.609   0.799    -6.883       0.2400      0.330000   \n1         0.471   0.839    -6.852       0.3790      0.116000   \n2         0.715   0.678   -11.842       0.0475      0.486000   \n3         0.409   0.932    -4.538       0.0339      0.000019   \n4         0.518   0.943    -2.044       0.1700      0.002160   \n\n   Instrumentalness  Liveness    Tempo  \n0          0.000000     0.108  157.740  \n1          0.000000     0.658  115.790  \n2          0.000192     0.150   94.769  \n3          0.000002     0.310  131.761  \n4          0.000000     0.080  180.166  ",
      "text/html": "<div>\n<style scoped>\n    .dataframe tbody tr th:only-of-type {\n        vertical-align: middle;\n    }\n\n    .dataframe tbody tr th {\n        vertical-align: top;\n    }\n\n    .dataframe thead th {\n        text-align: right;\n    }\n</style>\n<table border=\"1\" class=\"dataframe\">\n  <thead>\n    <tr style=\"text-align: right;\">\n      <th></th>\n      <th>Name</th>\n      <th>Date Added</th>\n      <th>Year</th>\n      <th>Last Played</th>\n      <th>Artist</th>\n      <th>Genre</th>\n      <th>Plays</th>\n      <th>id</th>\n      <th>popularity</th>\n      <th>Danceability</th>\n      <th>Energy</th>\n      <th>Loudness</th>\n      <th>Speechiness</th>\n      <th>Acousticness</th>\n      <th>Instrumentalness</th>\n      <th>Liveness</th>\n      <th>Tempo</th>\n    </tr>\n  </thead>\n  <tbody>\n    <tr>\n      <th>0</th>\n      <td>A.D.H.D.</td>\n      <td>7/6/15, 10:13 PM</td>\n      <td>2011.0</td>\n      <td>6/27/17, 9:58 AM</td>\n      <td>Kendrick Lamar</td>\n      <td>Hip-Hop/Rap</td>\n      <td>21.0</td>\n      <td>2Fw5S2gaOSZzdN5dFoC2dj</td>\n      <td>71</td>\n      <td>0.609</td>\n      <td>0.799</td>\n      <td>-6.883</td>\n      <td>0.2400</td>\n      <td>0.330000</td>\n      <td>0.000000</td>\n      <td>0.108</td>\n      <td>157.740</td>\n    </tr>\n    <tr>\n      <th>1</th>\n      <td>Ab-Souls Outro</td>\n      <td>8/12/19, 11:16 AM</td>\n      <td>2011.0</td>\n      <td>0</td>\n      <td>Kendrick Lamar</td>\n      <td>Hip-Hop/Rap</td>\n      <td>0.0</td>\n      <td>4VaL54I6TlzghRTzOhfr7L</td>\n      <td>47</td>\n      <td>0.471</td>\n      <td>0.839</td>\n      <td>-6.852</td>\n      <td>0.3790</td>\n      <td>0.116000</td>\n      <td>0.000000</td>\n      <td>0.658</td>\n      <td>115.790</td>\n    </tr>\n    <tr>\n      <th>2</th>\n      <td>ABC</td>\n      <td>6/27/18, 7:50 PM</td>\n      <td>1970.0</td>\n      <td>11/3/19, 11:24 AM</td>\n      <td>Jackson 5</td>\n      <td>R&amp;B/Soul</td>\n      <td>11.0</td>\n      <td>6wDviYDtmSDZ0S6TVMM9Vc</td>\n      <td>66</td>\n      <td>0.715</td>\n      <td>0.678</td>\n      <td>-11.842</td>\n      <td>0.0475</td>\n      <td>0.486000</td>\n      <td>0.000192</td>\n      <td>0.150</td>\n      <td>94.769</td>\n    </tr>\n    <tr>\n      <th>3</th>\n      <td>About a Girl</td>\n      <td>8/8/18, 1:53 PM</td>\n      <td>1989.0</td>\n      <td>2/28/19, 4:47 PM</td>\n      <td>Nirvana</td>\n      <td>Alternative</td>\n      <td>3.0</td>\n      <td>55yvzYuvJYG2RUEnMK78tr</td>\n      <td>70</td>\n      <td>0.409</td>\n      <td>0.932</td>\n      <td>-4.538</td>\n      <td>0.0339</td>\n      <td>0.000019</td>\n      <td>0.000002</td>\n      <td>0.310</td>\n      <td>131.761</td>\n    </tr>\n    <tr>\n      <th>4</th>\n      <td>About Me</td>\n      <td>10/25/16, 4:57 PM</td>\n      <td>2009.0</td>\n      <td>6/8/19, 5:50 PM</td>\n      <td>Raekwon</td>\n      <td>Hip-Hop/Rap</td>\n      <td>1.0</td>\n      <td>5hiatfPmopoExZRZ2O1g5S</td>\n      <td>58</td>\n      <td>0.518</td>\n      <td>0.943</td>\n      <td>-2.044</td>\n      <td>0.1700</td>\n      <td>0.002160</td>\n      <td>0.000000</td>\n      <td>0.080</td>\n      <td>180.166</td>\n    </tr>\n  </tbody>\n</table>\n</div>"
     },
     "metadata": {},
     "execution_count": 297
    }
   ],
   "source": [
    "library_df.head()"
   ]
  },
  {
   "cell_type": "markdown",
   "metadata": {},
   "source": [
    "### Dataframes should be populated with Spotify data - Now for the recommendation:"
   ]
  },
  {
   "cell_type": "code",
   "execution_count": 298,
   "metadata": {},
   "outputs": [
    {
     "output_type": "execute_result",
     "data": {
      "text/plain": "Year                1952.470238\nPlays                 43.595238\npopularity            69.565476\nDanceability           0.615274\nEnergy                 0.655989\nLoudness              -8.143571\nSpeechiness            0.068436\nAcousticness           0.237319\nInstrumentalness       0.032191\nLiveness               0.191896\nTempo                121.582399\ndtype: float64"
     },
     "metadata": {},
     "execution_count": 298
    }
   ],
   "source": [
    "target = playlist_df.mean()\n",
    "target"
   ]
  },
  {
   "cell_type": "code",
   "execution_count": 302,
   "metadata": {},
   "outputs": [],
   "source": [
    "library_df = GetVariation(target, library_df)"
   ]
  },
  {
   "cell_type": "code",
   "execution_count": 304,
   "metadata": {},
   "outputs": [
    {
     "output_type": "execute_result",
     "data": {
      "text/plain": "                         Name          Date Added    Year        Last Played  \\\n1039                Minnesota   11/23/16, 5:10 PM  2016.0  10/13/18, 7:35 AM   \n60                  Apologize    1/19/16, 1:38 PM     0.0  1/20/16, 12:23 AM   \n568     Gimme All Your Lovin'     5/1/20, 3:51 PM  1983.0  6/19/20, 11:04 AM   \n1674              Type of Way   11/20/16, 2:44 PM  2013.0   6/4/18, 12:04 PM   \n1670  Two Tickets to Paradise    3/26/20, 4:56 PM  1977.0                  0   \n1625          Think About You    4/17/17, 1:59 PM  2018.0   4/29/17, 9:20 PM   \n612              The Greatest  10/14/19, 10:05 PM  2015.0                  0   \n795                In the End   3/14/17, 11:52 PM  1994.0                  0   \n1859          The Zephyr Song   3/16/19, 11:39 AM  2002.0                  0   \n670               High Demand    3/10/17, 4:18 PM  2017.0   2/10/18, 1:44 PM   \n1586   Sympathy for the Devil    8/15/17, 2:04 PM  1968.0   3/15/20, 4:14 PM   \n324                     Crazy   5/11/12, 11:41 AM  2006.0   9/27/18, 6:15 PM   \n1716  Walking Back to Georgia    7/26/17, 1:41 PM  1972.0   8/3/18, 10:16 AM   \n1061              The Morning     7/3/16, 8:00 PM  2011.0    9/3/18, 2:03 PM   \n1276                  Push It    9/14/16, 3:52 PM  2016.0    2/3/20, 8:17 PM   \n\n                     Artist              Genre  Plays                      id  \\\n1039             Lil Yachty        Hip-Hop/Rap    2.0  4XkOcWt0C2JX1s2RXybosk   \n60             One Republic                  0    1.0  1NrJYpdAi7uosDRPmSYrsG   \n568                  ZZ Top          Hard Rock    8.0  0OBwxFLu6Yj61s2OagYbgY   \n1674        Rich Homie Quan        Hip-Hop/Rap   22.0  07sOl7WsmCaUqaJaRn9Dss   \n1670            Eddie Money               Rock    0.0  22CIOfLZB9z8He7WgHYAgH   \n1625          Guns N' Roses               Rock    3.0  3Kuu5vASpXK8oRsxOvau6P   \n612          Alabama Shakes        Alternative    0.0  4tnLapnaoDS46c9CBRUqpE   \n795               Green Day        Alternative    0.0  60a0Rd6pjrkxjPbaKzXjfq   \n1859  Red Hot Chili Peppers        Alternative    0.0  1ndGB6rvxKYN9seCYO1dTF   \n670                  Future        Hip-Hop/Rap    6.0  4ibj6HRTdzkfvlDgxSXxCp   \n1586     The Rolling Stones               Rock   47.0  1Ud6moTC0KyXMq1Oxfien0   \n324          Gnarls Barkley        Alternative    6.0  2N5zMZX7YeL1tico8oQxa9   \n1716              Jim Croce  Singer/Songwriter    1.0  51ueZKM83MTRv9rgiDfI6Y   \n1061             The Weeknd           R&B/Soul   38.0  6u0dQik0aif7FQlrhycG1L   \n1276           O.T. Genasis        Hip-Hop/Rap   44.0  6sT9MWlJManry3EQwf4V80   \n\n      popularity  Danceability  Energy  Loudness  Speechiness  Acousticness  \\\n1039          58         0.812   0.648    -4.994       0.0887       0.09510   \n60            71         0.593   0.740    -6.120       0.0339       0.36300   \n568           70         0.630   0.788    -6.700       0.0298       0.00322   \n1674          58         0.846   0.497   -10.174       0.4190       0.14600   \n1670          67         0.623   0.680   -13.255       0.0282       0.00560   \n1625          67         0.673   0.596    -7.891       0.0354       0.16600   \n612           72         0.732   0.410   -14.410       0.1270       0.09150   \n795           84         0.556   0.864    -5.870       0.0584       0.00958   \n1859          70         0.725   0.803    -4.083       0.0337       0.01300   \n670           48         0.907   0.465    -7.123       0.2880       0.01750   \n1586          76         0.702   0.668    -9.237       0.2140       0.51800   \n324           73         0.835   0.741    -1.609       0.0339       0.01720   \n1716          66         0.661   0.518   -10.061       0.0319       0.62100   \n1061          71         0.652   0.549    -7.555       0.0390       0.31700   \n1276          68         0.913   0.596   -12.477       0.0707       0.00658   \n\n      Instrumentalness  Liveness    Tempo  Variation  \n1039          0.000000    0.1100  130.022   0.023608  \n60            0.000022    0.1020  118.008   0.085486  \n568           0.023700    0.0883  120.059   0.116612  \n1674          0.000000    0.0733  134.875   0.123108  \n1670          0.000425    0.1480  129.713   0.137817  \n1625          0.000000    0.1100  123.969   0.147008  \n612           0.000000    0.0697  125.947   0.161792  \n795           0.000000    0.2090  105.143   0.164572  \n1859          0.000037    0.0891  117.391   0.166428  \n670           0.000015    0.1170  141.957   0.176893  \n1586          0.000000    0.0588  116.063   0.181392  \n324           0.057700    0.0826  111.963   0.315992  \n1716          0.000018    0.0953  127.266   0.326810  \n1061          0.000000    0.1040  120.073   0.373592  \n1276          0.003490    0.0780  127.215   0.399638  ",
      "text/html": "<div>\n<style scoped>\n    .dataframe tbody tr th:only-of-type {\n        vertical-align: middle;\n    }\n\n    .dataframe tbody tr th {\n        vertical-align: top;\n    }\n\n    .dataframe thead th {\n        text-align: right;\n    }\n</style>\n<table border=\"1\" class=\"dataframe\">\n  <thead>\n    <tr style=\"text-align: right;\">\n      <th></th>\n      <th>Name</th>\n      <th>Date Added</th>\n      <th>Year</th>\n      <th>Last Played</th>\n      <th>Artist</th>\n      <th>Genre</th>\n      <th>Plays</th>\n      <th>id</th>\n      <th>popularity</th>\n      <th>Danceability</th>\n      <th>Energy</th>\n      <th>Loudness</th>\n      <th>Speechiness</th>\n      <th>Acousticness</th>\n      <th>Instrumentalness</th>\n      <th>Liveness</th>\n      <th>Tempo</th>\n      <th>Variation</th>\n    </tr>\n  </thead>\n  <tbody>\n    <tr>\n      <th>1039</th>\n      <td>Minnesota</td>\n      <td>11/23/16, 5:10 PM</td>\n      <td>2016.0</td>\n      <td>10/13/18, 7:35 AM</td>\n      <td>Lil Yachty</td>\n      <td>Hip-Hop/Rap</td>\n      <td>2.0</td>\n      <td>4XkOcWt0C2JX1s2RXybosk</td>\n      <td>58</td>\n      <td>0.812</td>\n      <td>0.648</td>\n      <td>-4.994</td>\n      <td>0.0887</td>\n      <td>0.09510</td>\n      <td>0.000000</td>\n      <td>0.1100</td>\n      <td>130.022</td>\n      <td>0.023608</td>\n    </tr>\n    <tr>\n      <th>60</th>\n      <td>Apologize</td>\n      <td>1/19/16, 1:38 PM</td>\n      <td>0.0</td>\n      <td>1/20/16, 12:23 AM</td>\n      <td>One Republic</td>\n      <td>0</td>\n      <td>1.0</td>\n      <td>1NrJYpdAi7uosDRPmSYrsG</td>\n      <td>71</td>\n      <td>0.593</td>\n      <td>0.740</td>\n      <td>-6.120</td>\n      <td>0.0339</td>\n      <td>0.36300</td>\n      <td>0.000022</td>\n      <td>0.1020</td>\n      <td>118.008</td>\n      <td>0.085486</td>\n    </tr>\n    <tr>\n      <th>568</th>\n      <td>Gimme All Your Lovin'</td>\n      <td>5/1/20, 3:51 PM</td>\n      <td>1983.0</td>\n      <td>6/19/20, 11:04 AM</td>\n      <td>ZZ Top</td>\n      <td>Hard Rock</td>\n      <td>8.0</td>\n      <td>0OBwxFLu6Yj61s2OagYbgY</td>\n      <td>70</td>\n      <td>0.630</td>\n      <td>0.788</td>\n      <td>-6.700</td>\n      <td>0.0298</td>\n      <td>0.00322</td>\n      <td>0.023700</td>\n      <td>0.0883</td>\n      <td>120.059</td>\n      <td>0.116612</td>\n    </tr>\n    <tr>\n      <th>1674</th>\n      <td>Type of Way</td>\n      <td>11/20/16, 2:44 PM</td>\n      <td>2013.0</td>\n      <td>6/4/18, 12:04 PM</td>\n      <td>Rich Homie Quan</td>\n      <td>Hip-Hop/Rap</td>\n      <td>22.0</td>\n      <td>07sOl7WsmCaUqaJaRn9Dss</td>\n      <td>58</td>\n      <td>0.846</td>\n      <td>0.497</td>\n      <td>-10.174</td>\n      <td>0.4190</td>\n      <td>0.14600</td>\n      <td>0.000000</td>\n      <td>0.0733</td>\n      <td>134.875</td>\n      <td>0.123108</td>\n    </tr>\n    <tr>\n      <th>1670</th>\n      <td>Two Tickets to Paradise</td>\n      <td>3/26/20, 4:56 PM</td>\n      <td>1977.0</td>\n      <td>0</td>\n      <td>Eddie Money</td>\n      <td>Rock</td>\n      <td>0.0</td>\n      <td>22CIOfLZB9z8He7WgHYAgH</td>\n      <td>67</td>\n      <td>0.623</td>\n      <td>0.680</td>\n      <td>-13.255</td>\n      <td>0.0282</td>\n      <td>0.00560</td>\n      <td>0.000425</td>\n      <td>0.1480</td>\n      <td>129.713</td>\n      <td>0.137817</td>\n    </tr>\n    <tr>\n      <th>1625</th>\n      <td>Think About You</td>\n      <td>4/17/17, 1:59 PM</td>\n      <td>2018.0</td>\n      <td>4/29/17, 9:20 PM</td>\n      <td>Guns N' Roses</td>\n      <td>Rock</td>\n      <td>3.0</td>\n      <td>3Kuu5vASpXK8oRsxOvau6P</td>\n      <td>67</td>\n      <td>0.673</td>\n      <td>0.596</td>\n      <td>-7.891</td>\n      <td>0.0354</td>\n      <td>0.16600</td>\n      <td>0.000000</td>\n      <td>0.1100</td>\n      <td>123.969</td>\n      <td>0.147008</td>\n    </tr>\n    <tr>\n      <th>612</th>\n      <td>The Greatest</td>\n      <td>10/14/19, 10:05 PM</td>\n      <td>2015.0</td>\n      <td>0</td>\n      <td>Alabama Shakes</td>\n      <td>Alternative</td>\n      <td>0.0</td>\n      <td>4tnLapnaoDS46c9CBRUqpE</td>\n      <td>72</td>\n      <td>0.732</td>\n      <td>0.410</td>\n      <td>-14.410</td>\n      <td>0.1270</td>\n      <td>0.09150</td>\n      <td>0.000000</td>\n      <td>0.0697</td>\n      <td>125.947</td>\n      <td>0.161792</td>\n    </tr>\n    <tr>\n      <th>795</th>\n      <td>In the End</td>\n      <td>3/14/17, 11:52 PM</td>\n      <td>1994.0</td>\n      <td>0</td>\n      <td>Green Day</td>\n      <td>Alternative</td>\n      <td>0.0</td>\n      <td>60a0Rd6pjrkxjPbaKzXjfq</td>\n      <td>84</td>\n      <td>0.556</td>\n      <td>0.864</td>\n      <td>-5.870</td>\n      <td>0.0584</td>\n      <td>0.00958</td>\n      <td>0.000000</td>\n      <td>0.2090</td>\n      <td>105.143</td>\n      <td>0.164572</td>\n    </tr>\n    <tr>\n      <th>1859</th>\n      <td>The Zephyr Song</td>\n      <td>3/16/19, 11:39 AM</td>\n      <td>2002.0</td>\n      <td>0</td>\n      <td>Red Hot Chili Peppers</td>\n      <td>Alternative</td>\n      <td>0.0</td>\n      <td>1ndGB6rvxKYN9seCYO1dTF</td>\n      <td>70</td>\n      <td>0.725</td>\n      <td>0.803</td>\n      <td>-4.083</td>\n      <td>0.0337</td>\n      <td>0.01300</td>\n      <td>0.000037</td>\n      <td>0.0891</td>\n      <td>117.391</td>\n      <td>0.166428</td>\n    </tr>\n    <tr>\n      <th>670</th>\n      <td>High Demand</td>\n      <td>3/10/17, 4:18 PM</td>\n      <td>2017.0</td>\n      <td>2/10/18, 1:44 PM</td>\n      <td>Future</td>\n      <td>Hip-Hop/Rap</td>\n      <td>6.0</td>\n      <td>4ibj6HRTdzkfvlDgxSXxCp</td>\n      <td>48</td>\n      <td>0.907</td>\n      <td>0.465</td>\n      <td>-7.123</td>\n      <td>0.2880</td>\n      <td>0.01750</td>\n      <td>0.000015</td>\n      <td>0.1170</td>\n      <td>141.957</td>\n      <td>0.176893</td>\n    </tr>\n    <tr>\n      <th>1586</th>\n      <td>Sympathy for the Devil</td>\n      <td>8/15/17, 2:04 PM</td>\n      <td>1968.0</td>\n      <td>3/15/20, 4:14 PM</td>\n      <td>The Rolling Stones</td>\n      <td>Rock</td>\n      <td>47.0</td>\n      <td>1Ud6moTC0KyXMq1Oxfien0</td>\n      <td>76</td>\n      <td>0.702</td>\n      <td>0.668</td>\n      <td>-9.237</td>\n      <td>0.2140</td>\n      <td>0.51800</td>\n      <td>0.000000</td>\n      <td>0.0588</td>\n      <td>116.063</td>\n      <td>0.181392</td>\n    </tr>\n    <tr>\n      <th>324</th>\n      <td>Crazy</td>\n      <td>5/11/12, 11:41 AM</td>\n      <td>2006.0</td>\n      <td>9/27/18, 6:15 PM</td>\n      <td>Gnarls Barkley</td>\n      <td>Alternative</td>\n      <td>6.0</td>\n      <td>2N5zMZX7YeL1tico8oQxa9</td>\n      <td>73</td>\n      <td>0.835</td>\n      <td>0.741</td>\n      <td>-1.609</td>\n      <td>0.0339</td>\n      <td>0.01720</td>\n      <td>0.057700</td>\n      <td>0.0826</td>\n      <td>111.963</td>\n      <td>0.315992</td>\n    </tr>\n    <tr>\n      <th>1716</th>\n      <td>Walking Back to Georgia</td>\n      <td>7/26/17, 1:41 PM</td>\n      <td>1972.0</td>\n      <td>8/3/18, 10:16 AM</td>\n      <td>Jim Croce</td>\n      <td>Singer/Songwriter</td>\n      <td>1.0</td>\n      <td>51ueZKM83MTRv9rgiDfI6Y</td>\n      <td>66</td>\n      <td>0.661</td>\n      <td>0.518</td>\n      <td>-10.061</td>\n      <td>0.0319</td>\n      <td>0.62100</td>\n      <td>0.000018</td>\n      <td>0.0953</td>\n      <td>127.266</td>\n      <td>0.326810</td>\n    </tr>\n    <tr>\n      <th>1061</th>\n      <td>The Morning</td>\n      <td>7/3/16, 8:00 PM</td>\n      <td>2011.0</td>\n      <td>9/3/18, 2:03 PM</td>\n      <td>The Weeknd</td>\n      <td>R&amp;B/Soul</td>\n      <td>38.0</td>\n      <td>6u0dQik0aif7FQlrhycG1L</td>\n      <td>71</td>\n      <td>0.652</td>\n      <td>0.549</td>\n      <td>-7.555</td>\n      <td>0.0390</td>\n      <td>0.31700</td>\n      <td>0.000000</td>\n      <td>0.1040</td>\n      <td>120.073</td>\n      <td>0.373592</td>\n    </tr>\n    <tr>\n      <th>1276</th>\n      <td>Push It</td>\n      <td>9/14/16, 3:52 PM</td>\n      <td>2016.0</td>\n      <td>2/3/20, 8:17 PM</td>\n      <td>O.T. Genasis</td>\n      <td>Hip-Hop/Rap</td>\n      <td>44.0</td>\n      <td>6sT9MWlJManry3EQwf4V80</td>\n      <td>68</td>\n      <td>0.913</td>\n      <td>0.596</td>\n      <td>-12.477</td>\n      <td>0.0707</td>\n      <td>0.00658</td>\n      <td>0.003490</td>\n      <td>0.0780</td>\n      <td>127.215</td>\n      <td>0.399638</td>\n    </tr>\n  </tbody>\n</table>\n</div>"
     },
     "metadata": {},
     "execution_count": 304
    }
   ],
   "source": [
    "library_df.sort_values(by='Variation').head(15) #Lowest Variation => Most similar to target"
   ]
  },
  {
   "cell_type": "markdown",
   "metadata": {},
   "source": [
    "## This represents the Top 15 Songs I should add to my STCD playlist\n",
    "### In the future, I plan on making this into an application"
   ]
  }
 ]
}